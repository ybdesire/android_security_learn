{
 "cells": [
  {
   "cell_type": "markdown",
   "metadata": {},
   "source": [
    "# get strings from dex file"
   ]
  },
  {
   "cell_type": "markdown",
   "metadata": {},
   "source": [
    "如何理解DEX结构细节：\n",
    "\n",
    "* [1] https://blog.csdn.net/sinat_18268881/article/details/55832757\n",
    "* [2] https://blog.csdn.net/jiangwei0910410003/article/details/50668549\n"
   ]
  },
  {
   "cell_type": "code",
   "execution_count": 2,
   "metadata": {
    "collapsed": true
   },
   "outputs": [],
   "source": [
    "import mmap,struct\n",
    "\n",
    "f = open('Hello.dex', 'rb')\n",
    "m = mmap.mmap(f.fileno(), 0, access=mmap.ACCESS_READ)\n",
    "\n",
    "string_ids_size = struct.unpack('<L', m[0x38:0x3C])[0] \n",
    "string_ids_off  = struct.unpack('<L', m[0x3C:0x40])[0]"
   ]
  },
  {
   "cell_type": "code",
   "execution_count": 3,
   "metadata": {},
   "outputs": [],
   "source": [
    "def string_list():\n",
    "    string_data = []\n",
    "    for i in range(string_ids_size):\n",
    "        off = struct.unpack('<L', m[string_ids_off + (i*4) : string_ids_off + (i*4) + 4 ])[0]\n",
    "        c_size = m[off]\n",
    "        c_char = m[off+1:off+1+c_size]\n",
    "        string_data.append(c_char)\n",
    "    return string_data"
   ]
  },
  {
   "cell_type": "code",
   "execution_count": 4,
   "metadata": {},
   "outputs": [
    {
     "data": {
      "text/plain": [
       "[b'<init>',\n",
       " b'Hello.java',\n",
       " b'LHello;',\n",
       " b'Ljava/io/PrintStream;',\n",
       " b'Ljava/lang/Object;',\n",
       " b'Ljava/lang/String;',\n",
       " b'Ljava/lang/System;',\n",
       " b'V',\n",
       " b'VL',\n",
       " b'[Ljava/lang/String;',\n",
       " b'hello',\n",
       " b'main',\n",
       " b'out',\n",
       " b'println']"
      ]
     },
     "execution_count": 4,
     "metadata": {},
     "output_type": "execute_result"
    }
   ],
   "source": [
    "string_list()"
   ]
  }
 ],
 "metadata": {
  "kernelspec": {
   "display_name": "Python 3",
   "language": "python",
   "name": "python3"
  },
  "language_info": {
   "codemirror_mode": {
    "name": "ipython",
    "version": 3
   },
   "file_extension": ".py",
   "mimetype": "text/x-python",
   "name": "python",
   "nbconvert_exporter": "python",
   "pygments_lexer": "ipython3",
   "version": "3.5.4"
  }
 },
 "nbformat": 4,
 "nbformat_minor": 2
}
