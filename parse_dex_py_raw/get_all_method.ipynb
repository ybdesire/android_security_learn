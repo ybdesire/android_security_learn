{
 "cells": [
  {
   "cell_type": "markdown",
   "metadata": {},
   "source": [
    "# get methods from dex file"
   ]
  },
  {
   "cell_type": "markdown",
   "metadata": {},
   "source": [
    "如何理解DEX结构细节：\n",
    "\n",
    "* [1] https://blog.csdn.net/sinat_18268881/article/details/55832757\n",
    "* [2] https://blog.csdn.net/jiangwei0910410003/article/details/50668549\n"
   ]
  },
  {
   "cell_type": "markdown",
   "metadata": {},
   "source": [
    "**注意：需要先理解string_type_proto.ipynb中的内容**"
   ]
  },
  {
   "cell_type": "code",
   "execution_count": 1,
   "metadata": {
    "collapsed": true
   },
   "outputs": [],
   "source": [
    "import mmap,struct\n",
    "\n",
    "f = open('Hello.dex', 'rb')\n",
    "m = mmap.mmap(f.fileno(), 0, access=mmap.ACCESS_READ)\n",
    "\n",
    "string_ids_size = struct.unpack('<L', m[0x38:0x3C])[0] \n",
    "string_ids_off  = struct.unpack('<L', m[0x3C:0x40])[0]\n",
    "method_ids_size = struct.unpack('<L', m[0x58:0x5C])[0]\n",
    "method_ids_off  = struct.unpack('<L', m[0x5C:0x60])[0]"
   ]
  },
  {
   "cell_type": "code",
   "execution_count": 7,
   "metadata": {
    "collapsed": true
   },
   "outputs": [],
   "source": [
    "def method_list():\n",
    "    method_data = []\n",
    "    for i in range(method_ids_size):\n",
    "        # 方法所在的类、方法的声明以及方法名\n",
    "        class_idx = struct.unpack('<H', m[method_ids_off+(i*8)  :method_ids_off+(i*8)+2])[0]# type_ids \n",
    "        proto_idx = struct.unpack('<H', m[method_ids_off+(i*8)+2:method_ids_off+(i*8)+4])[0]# proto_ids \n",
    "        name_idx  = struct.unpack('<L', m[method_ids_off+(i*8)+4:method_ids_off+(i*8)+8])[0]# string_ids\n",
    "        method_data.append([class_idx, proto_idx, name_idx])\n",
    "    return method_data"
   ]
  },
  {
   "cell_type": "code",
   "execution_count": 8,
   "metadata": {},
   "outputs": [
    {
     "data": {
      "text/plain": [
       "[[0, 0, 0], [0, 2, 11], [1, 1, 13], [2, 0, 0]]"
      ]
     },
     "execution_count": 8,
     "metadata": {},
     "output_type": "execute_result"
    }
   ],
   "source": [
    "method_list()"
   ]
  },
  {
   "cell_type": "markdown",
   "metadata": {},
   "source": [
    " 一共有4个方法\n",
    "* 以  [0,2,11] 为例\n",
    "* 0：函数所在的类名，对应type_ids中的 LHello\n",
    "* 2：函数的原型（返回值，参数），对应proto_ids中的 返回值为V，\n",
    "* 11: 函数名，对应string_ids中的 main"
   ]
  },
  {
   "cell_type": "code",
   "execution_count": null,
   "metadata": {
    "collapsed": true
   },
   "outputs": [],
   "source": []
  }
 ],
 "metadata": {
  "kernelspec": {
   "display_name": "Python 3",
   "language": "python",
   "name": "python3"
  },
  "language_info": {
   "codemirror_mode": {
    "name": "ipython",
    "version": 3
   },
   "file_extension": ".py",
   "mimetype": "text/x-python",
   "name": "python",
   "nbconvert_exporter": "python",
   "pygments_lexer": "ipython3",
   "version": "3.5.4"
  }
 },
 "nbformat": 4,
 "nbformat_minor": 2
}
