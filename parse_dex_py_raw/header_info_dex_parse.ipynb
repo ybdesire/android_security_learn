{
 "cells": [
  {
   "cell_type": "markdown",
   "metadata": {},
   "source": [
    "# parse dex header"
   ]
  },
  {
   "cell_type": "markdown",
   "metadata": {},
   "source": [
    "如何理解DEX结构细节：\n",
    "\n",
    "* [1] https://blog.csdn.net/sinat_18268881/article/details/55832757\n",
    "* [2] https://blog.csdn.net/jiangwei0910410003/article/details/50668549\n"
   ]
  },
  {
   "cell_type": "code",
   "execution_count": 1,
   "metadata": {
    "collapsed": true
   },
   "outputs": [],
   "source": [
    "import mmap,struct\n",
    "\n",
    "f = open('Hello.dex', 'rb')\n",
    "m = mmap.mmap(f.fileno(), 0, access=mmap.ACCESS_READ)\n",
    "\n",
    "magic           = m[0:8]\n",
    "checksum        = struct.unpack('<L', m[8:0xC])[0]# to long int (4 byte) as big-endian parsing\n",
    "signiture       = m[0xC:0x20]# sha1 hash\n",
    "file_size       = struct.unpack('<L', m[0x20:0x24])[0]\n",
    "header_size     = struct.unpack('<L', m[0x24:0x28])[0]\n",
    "endian_tag      = struct.unpack('<L', m[0x28:0x2C])[0]\n",
    "link_size       = struct.unpack('<L', m[0x2C:0x30])[0]\n",
    "link_off        = struct.unpack('<L', m[0x30:0x34])[0]\n",
    "map_off         = struct.unpack('<L', m[0x34:0x38])[0]\n",
    "string_ids_size = struct.unpack('<L', m[0x38:0x3C])[0] \n",
    "string_ids_off  = struct.unpack('<L', m[0x3C:0x40])[0]\n",
    "type_ids_size   = struct.unpack('<L', m[0x40:0x44])[0]\n",
    "type_ids_off    = struct.unpack('<L', m[0x44:0x48])[0]\n",
    "proto_ids_size  = struct.unpack('<L', m[0x48:0x4C])[0]\n",
    "proto_ids_off   = struct.unpack('<L', m[0x4C:0x50])[0]\n",
    "field_ids_size  = struct.unpack('<L', m[0x50:0x54])[0]\n",
    "field_ids_off   = struct.unpack('<L', m[0x54:0x58])[0]\n",
    "method_ids_size = struct.unpack('<L', m[0x58:0x5C])[0]\n",
    "method_ids_off  = struct.unpack('<L', m[0x5C:0x60])[0]\n",
    "class_defs_size = struct.unpack('<L', m[0x60:0x64])[0]\n",
    "class_defs_off  = struct.unpack('<L', m[0x64:0x68])[0]\n",
    "data_size       = struct.unpack('<L', m[0x68:0x6C])[0]\n",
    "data_off        = struct.unpack('<L', m[0x6C:0x70])[0]"
   ]
  },
  {
   "cell_type": "code",
   "execution_count": 4,
   "metadata": {},
   "outputs": [
    {
     "data": {
      "text/plain": [
       "b'dex\\n035\\x00'"
      ]
     },
     "execution_count": 4,
     "metadata": {},
     "output_type": "execute_result"
    }
   ],
   "source": [
    "magic# default 8 bytes as magic"
   ]
  },
  {
   "cell_type": "code",
   "execution_count": 2,
   "metadata": {},
   "outputs": [
    {
     "name": "stdout",
     "output_type": "stream",
     "text": [
      "file_size: 728\n",
      "endian_tag: 305419896\n"
     ]
    }
   ],
   "source": [
    "print('file_size: {0}'.format(file_size))# 728 byte\n",
    "print('endian_tag: {0}'.format( endian_tag ))# default 0x12345678"
   ]
  }
 ],
 "metadata": {
  "kernelspec": {
   "display_name": "Python 3",
   "language": "python",
   "name": "python3"
  },
  "language_info": {
   "codemirror_mode": {
    "name": "ipython",
    "version": 3
   },
   "file_extension": ".py",
   "mimetype": "text/x-python",
   "name": "python",
   "nbconvert_exporter": "python",
   "pygments_lexer": "ipython3",
   "version": "3.5.4"
  }
 },
 "nbformat": 4,
 "nbformat_minor": 2
}
