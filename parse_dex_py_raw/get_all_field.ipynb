{
 "cells": [
  {
   "cell_type": "markdown",
   "metadata": {},
   "source": [
    "# get fields(member variable) from dex file"
   ]
  },
  {
   "cell_type": "markdown",
   "metadata": {},
   "source": [
    "如何理解DEX结构细节：\n",
    "\n",
    "* [1] https://blog.csdn.net/sinat_18268881/article/details/55832757\n",
    "* [2] https://blog.csdn.net/jiangwei0910410003/article/details/50668549\n"
   ]
  },
  {
   "cell_type": "markdown",
   "metadata": {},
   "source": [
    "**注意：需要先理解string_type_proto.ipynb中的内容**"
   ]
  },
  {
   "cell_type": "code",
   "execution_count": 1,
   "metadata": {
    "collapsed": true
   },
   "outputs": [],
   "source": [
    "import mmap,struct\n",
    "\n",
    "f = open('Hello.dex', 'rb')\n",
    "m = mmap.mmap(f.fileno(), 0, access=mmap.ACCESS_READ)\n",
    "\n",
    "field_ids_size  = struct.unpack('<L', m[0x50:0x54])[0]\n",
    "field_ids_off   = struct.unpack('<L', m[0x54:0x58])[0]\n"
   ]
  },
  {
   "cell_type": "code",
   "execution_count": 2,
   "metadata": {
    "collapsed": true
   },
   "outputs": [],
   "source": [
    "def fieldids_list():\n",
    "    fieldids_data = []\n",
    "    for i in range(field_ids_size):\n",
    "        class_idx = struct.unpack('<H', m[field_ids_off+(i*8)  :field_ids_off+(i*8)+2])[0]# type_ids \n",
    "        type_idx  = struct.unpack('<H', m[field_ids_off+(i*8)+2:field_ids_off+(i*8)+4])[0]# type_ids \n",
    "        name_idx  = struct.unpack('<L', m[field_ids_off+(i*8)+4:field_ids_off+(i*8)+8])[0]#  string_ids \n",
    "        fieldids_data.append([class_idx, type_idx, name_idx])\n",
    "    return fieldids_data"
   ]
  },
  {
   "cell_type": "code",
   "execution_count": 3,
   "metadata": {},
   "outputs": [
    {
     "data": {
      "text/plain": [
       "[[4, 1, 12]]"
      ]
     },
     "execution_count": 3,
     "metadata": {},
     "output_type": "execute_result"
    }
   ],
   "source": [
    "fieldids_list()"
   ]
  },
  {
   "cell_type": "markdown",
   "metadata": {},
   "source": [
    "* class_idx ：表示本 field 所属的 class 类型 , class_idx 的值是 type_ids 的一个 index ， 并且必须指向一个class 类型 。\n",
    "* type_idx ：表示本 field 的类型 ，它的值也是 type_ids 的一个 index 。\n",
    "* name_idx ： 表示本 field 的名称 ，它的值是 string_ids 的一个 index 。"
   ]
  },
  {
   "cell_type": "markdown",
   "metadata": {},
   "source": [
    " 一共有1个成员变量\n",
    " \n",
    "* 以  [4,1,12] 为例\n",
    "* 4：成员变量所在的类名，对应type_ids中的 Ljava/lang/System;\n",
    "* 1：成员变量的类型，对应type_ids中的 LHello;\n",
    "* 12: 成员变量名，对应string_ids中的 out"
   ]
  },
  {
   "cell_type": "code",
   "execution_count": null,
   "metadata": {
    "collapsed": true
   },
   "outputs": [],
   "source": []
  }
 ],
 "metadata": {
  "kernelspec": {
   "display_name": "Python 3",
   "language": "python",
   "name": "python3"
  },
  "language_info": {
   "codemirror_mode": {
    "name": "ipython",
    "version": 3
   },
   "file_extension": ".py",
   "mimetype": "text/x-python",
   "name": "python",
   "nbconvert_exporter": "python",
   "pygments_lexer": "ipython3",
   "version": "3.5.4"
  }
 },
 "nbformat": 4,
 "nbformat_minor": 2
}
