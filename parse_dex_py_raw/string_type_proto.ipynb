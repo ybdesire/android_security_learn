{
 "cells": [
  {
   "cell_type": "markdown",
   "metadata": {},
   "source": [
    "# string_ids, type_ids list, proto_ids list三个重要的list"
   ]
  },
  {
   "cell_type": "markdown",
   "metadata": {},
   "source": [
    "3个非常重要的表：string,type,proto\n",
    "\n",
    "* string_ids list\n",
    "* type_ids list\n",
    "* proto_ids list\n",
    "\n",
    "parse method、class时要用到"
   ]
  },
  {
   "cell_type": "markdown",
   "metadata": {},
   "source": [
    "# 1. parse header"
   ]
  },
  {
   "cell_type": "code",
   "execution_count": 1,
   "metadata": {
    "collapsed": true
   },
   "outputs": [],
   "source": [
    "import mmap,struct\n",
    "\n",
    "f = open('Hello.dex', 'rb')\n",
    "m = mmap.mmap(f.fileno(), 0, access=mmap.ACCESS_READ)\n",
    "\n",
    "string_ids_size = struct.unpack('<L', m[0x38:0x3C])[0] \n",
    "string_ids_off  = struct.unpack('<L', m[0x3C:0x40])[0]\n",
    "type_ids_size   = struct.unpack('<L', m[0x40:0x44])[0]\n",
    "type_ids_off    = struct.unpack('<L', m[0x44:0x48])[0]\n",
    "proto_ids_size  = struct.unpack('<L', m[0x48:0x4C])[0]\n",
    "proto_ids_off   = struct.unpack('<L', m[0x4C:0x50])[0]\n",
    "field_ids_size  = struct.unpack('<L', m[0x50:0x54])[0]\n",
    "field_ids_off   = struct.unpack('<L', m[0x54:0x58])[0]"
   ]
  },
  {
   "cell_type": "markdown",
   "metadata": {},
   "source": [
    "# 2. string_ids list"
   ]
  },
  {
   "cell_type": "code",
   "execution_count": 2,
   "metadata": {},
   "outputs": [
    {
     "data": {
      "text/plain": [
       "[b'<init>',\n",
       " b'Hello.java',\n",
       " b'LHello;',\n",
       " b'Ljava/io/PrintStream;',\n",
       " b'Ljava/lang/Object;',\n",
       " b'Ljava/lang/String;',\n",
       " b'Ljava/lang/System;',\n",
       " b'V',\n",
       " b'VL',\n",
       " b'[Ljava/lang/String;',\n",
       " b'hello',\n",
       " b'main',\n",
       " b'out',\n",
       " b'println']"
      ]
     },
     "execution_count": 2,
     "metadata": {},
     "output_type": "execute_result"
    }
   ],
   "source": [
    "def string_list():\n",
    "    string_data = []\n",
    "    for i in range(string_ids_size):\n",
    "        off = struct.unpack('<L', m[string_ids_off + (i*4) : string_ids_off + (i*4) + 4 ])[0]\n",
    "        c_size = m[off]\n",
    "        c_char = m[off+1:off+1+c_size]\n",
    "        string_data.append(c_char)\n",
    "    return string_data\n",
    "string_list()"
   ]
  },
  {
   "cell_type": "markdown",
   "metadata": {},
   "source": [
    "# 3. type_ids list"
   ]
  },
  {
   "cell_type": "code",
   "execution_count": 3,
   "metadata": {},
   "outputs": [
    {
     "data": {
      "text/plain": [
       "[2, 3, 4, 5, 6, 7, 9]"
      ]
     },
     "execution_count": 3,
     "metadata": {},
     "output_type": "execute_result"
    }
   ],
   "source": [
    "def typeid_list():\n",
    "    type_data = []\n",
    "    for i in range(type_ids_size):\n",
    "        idx = struct.unpack('<L', m[type_ids_off + (i*4) : type_ids_off + (i*4) + 4])[0]\n",
    "        type_data.append(idx)\n",
    "    return type_data\n",
    "typeid_list()"
   ]
  },
  {
   "cell_type": "markdown",
   "metadata": {},
   "source": [
    "对应DexStringId列表中的 [2, 3, 4, 5, 6, 7, 9]，即\n",
    "\n",
    "```\n",
    " b'LHello;',\n",
    " b'Ljava/io/PrintStream;',\n",
    " b'Ljava/lang/Object;',\n",
    " b'Ljava/lang/String;',\n",
    " b'Ljava/lang/System;',\n",
    " b'V',\n",
    "\n",
    " b'[Ljava/lang/String;',\n",
    "```\n",
    "\n",
    "这几个就是type（后面parse method和class时会用到）"
   ]
  },
  {
   "cell_type": "markdown",
   "metadata": {},
   "source": [
    "# 4. proto_ids list"
   ]
  },
  {
   "cell_type": "code",
   "execution_count": 5,
   "metadata": {},
   "outputs": [
    {
     "data": {
      "text/plain": [
       "[[7, 5, 0], [8, 5, 360], [8, 5, 368]]"
      ]
     },
     "execution_count": 5,
     "metadata": {},
     "output_type": "execute_result"
    }
   ],
   "source": [
    "def protoids_list():\n",
    "    protoids_data = []\n",
    "    for i in range(proto_ids_size):\n",
    "        shorty_idx      = struct.unpack('<L', m[proto_ids_off+(i*12)  :proto_ids_off+(i*12)+ 4])[0]# string_ids\n",
    "        return_type_idx = struct.unpack('<L', m[proto_ids_off+(i*12)+4:proto_ids_off+(i*12)+ 8])[0]# type_ids\n",
    "        param_off       = struct.unpack('<L', m[proto_ids_off+(i*12)+8:proto_ids_off+(i*12)+12])[0]# address offset\n",
    "        protoids_data.append([shorty_idx, return_type_idx, param_off])\n",
    "    return protoids_data\n",
    "protoids_list()"
   ]
  },
  {
   "cell_type": "markdown",
   "metadata": {},
   "source": [
    "* shorty_idx ：跟 type_ids 一样 ，它的值是一个 string_ids 的 index 号 ，最终是一个简短的字符串描述 ，用来说明该 method 原型 \n",
    "* return_type_idx ：它的值是一个 type_ids 的 index 号 ，表示该 method 原型的返回值类型 。\n",
    "* parameters_off ：后缀 off 是 offset , 指向 method 原型的参数列表 type_list ; 若 method 没有参数 ，值为0 。参数列表的格式是 type_list ，结构从逻辑上如下描述 。size 表示参数的个数 ；type_idx 是对应参数的类型 ，它的值是一个 type_ids 的 index 号 ，跟 return_type_idx 是同一个品种的东西 "
   ]
  },
  {
   "cell_type": "markdown",
   "metadata": {},
   "source": [
    " 以[7, 5, 0]为例\n",
    " \n",
    "* 7: string_ids list 中index=7，是 'V'\n",
    "* 5：type_ids list中index=5，是 'V'\n",
    "* 0：表示没有参数"
   ]
  },
  {
   "cell_type": "code",
   "execution_count": null,
   "metadata": {
    "collapsed": true
   },
   "outputs": [],
   "source": []
  }
 ],
 "metadata": {
  "kernelspec": {
   "display_name": "Python 3",
   "language": "python",
   "name": "python3"
  },
  "language_info": {
   "codemirror_mode": {
    "name": "ipython",
    "version": 3
   },
   "file_extension": ".py",
   "mimetype": "text/x-python",
   "name": "python",
   "nbconvert_exporter": "python",
   "pygments_lexer": "ipython3",
   "version": "3.5.4"
  }
 },
 "nbformat": 4,
 "nbformat_minor": 2
}
